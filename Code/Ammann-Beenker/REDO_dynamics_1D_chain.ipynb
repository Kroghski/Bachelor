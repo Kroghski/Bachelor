{
 "cells": [
  {
   "cell_type": "code",
   "execution_count": 1,
   "metadata": {},
   "outputs": [],
   "source": [
    "## Libraries\n",
    "import numpy as np\n",
    "import matplotlib.pyplot as plt\n",
    "from matplotlib.animation import FuncAnimation\n",
    "\n",
    "## Plot settings\n",
    "plt.rc('xtick', direction='in', labelsize=14)\n",
    "plt.rc('ytick', direction='in', labelsize=14)\n",
    "plt.rc('axes', labelsize=20, titlesize=22)\n",
    "plt.rc('legend', fontsize=14)\n",
    "plt.rc('animation', html='jshtml')\n",
    "plt.rcParams['font.family'] = 'DeJavu Serif'\n",
    "plt.rcParams['font.serif'] = ['Computer Modern Roman']\n",
    "plt.rcParams[\"font.size\"] = \"12\"\n",
    "plt.rcParams['mathtext.fontset'] = 'cm'"
   ]
  },
  {
   "attachments": {},
   "cell_type": "markdown",
   "metadata": {},
   "source": [
    "Following meeting with Anne and notes thereof we construct a toy model of the dynamics.\n",
    "Start by noting that we can construct a momentum eigenvector as\n",
    "\\begin{equation} \n",
    "    \\lvert p \\rangle = \\sum_{n} e^{i p n} \\lvert n \\rangle,\n",
    "\\end{equation}\n",
    "Now $n \\in \\{ 0, 1, ..., 7\\}$ while similarly $p$ is already known too. $n$ simply refers (presumably) and thus we attempt the construction.\n",
    "\n",
    "We let $n$ denote the entry of a coordinate vector. Thus we will write $\\lvert p \\rangle$ in position space basis. Note that $p = \\{\\frac{2 \\pi}{N}k \\}$ where $N$ is the number of sites in the chain, and $k \\in \\{0, 1, ..., 7\\}$."
   ]
  },
  {
   "cell_type": "code",
   "execution_count": 7,
   "metadata": {},
   "outputs": [],
   "source": [
    "# Define neccessary scalars\n",
    "N = 8\n",
    "ks = np.arange(0,8)\n",
    "ns = np.arange(0,8)\n",
    "\n",
    "# Define all sites vectors:\n",
    "site_vecs = []\n",
    "for i in ks:\n",
    "    empty_vector = np.zeros(8, dtype= np.complex128)\n",
    "    empty_vector[i] = 1\n",
    "    site_vecs.append(empty_vector)\n",
    "\n",
    "# Calculate ps\n",
    "ps = [(2*np.pi)/(N)*k for k in ks]\n",
    "\n",
    "# Calculate eigenvectors\n",
    "p_vecs = [sum([np.exp(1j*p*n)*n_site for n, n_site in zip(ns, site_vecs)]) for p in ps]"
   ]
  },
  {
   "attachments": {},
   "cell_type": "markdown",
   "metadata": {},
   "source": [
    "A wavefunction $\\lvert \\psi \\rangle$ can be written as linear combination of momentum eigenstates\n",
    "\\begin{equation}\n",
    "    \\lvert \\psi \\rangle = \\sum_p c_p \\lvert p \\rangle.\n",
    "\\end{equation}\n",
    "Now if we want to evolve them in time we simply tack on a global factor $e^{-i E_n t}$. $E_n$ we know as the energy of the BLT state we are investigating. Say we have a BLT state with momentum $p$ then we take the energy $E_n$ of the BLT state and use it as factor.\n",
    "Thus to do a time evolution on our toy model, we need to know BLT state's $p$, $E_n$, and $c_p$ i.e. coefficient in the linear combination before time evolution."
   ]
  },
  {
   "cell_type": "code",
   "execution_count": null,
   "metadata": {},
   "outputs": [],
   "source": [
    "# This is the energy of the BLT states\n",
    "Ens = [1.5208007096452278, 1.5948867956378012, 1.6798300552837706, 1.7697908005800749, 1.8605762351834823]\n",
    "# This is the phases of the BLT states\n",
    "phases = [5.497787143782138, 3.9269908169872414, 4.71238898038469, 2.356194490192345, 3.141592653589793]\n",
    "# From the last part we may write\n",
    "edge_pvecs = [p_vecs[7], p_vecs[5], p_vecs[6], p_vecs[3], p_vecs[4]]\n",
    "\n",
    "# We start out by assuming cp = 1 for all p\n"
   ]
  }
 ],
 "metadata": {
  "kernelspec": {
   "display_name": "base",
   "language": "python",
   "name": "python3"
  },
  "language_info": {
   "codemirror_mode": {
    "name": "ipython",
    "version": 3
   },
   "file_extension": ".py",
   "mimetype": "text/x-python",
   "name": "python",
   "nbconvert_exporter": "python",
   "pygments_lexer": "ipython3",
   "version": "3.9.12"
  },
  "orig_nbformat": 4
 },
 "nbformat": 4,
 "nbformat_minor": 2
}
