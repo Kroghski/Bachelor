{
 "cells": [
  {
   "cell_type": "code",
   "execution_count": null,
   "metadata": {},
   "outputs": [],
   "source": [
    "## Libraries\n",
    "import numpy as np\n",
    "import matplotlib.pyplot as plt\n",
    "from matplotlib.animation import FuncAnimation\n",
    "\n",
    "\n",
    "## Plot settings\n",
    "plt.rc('xtick', direction='in', labelsize=14)\n",
    "plt.rc('ytick', direction='in', labelsize=14)\n",
    "plt.rc('axes', labelsize=20, titlesize=22)\n",
    "plt.rc('legend', fontsize=14)\n",
    "plt.rc('animation', html='jshtml')\n",
    "plt.rcParams['font.family'] = 'DeJavu Serif'\n",
    "plt.rcParams['font.serif'] = ['Computer Modern Roman']\n",
    "plt.rcParams['mathtext.fontset'] = 'cm'"
   ]
  }
 ],
 "metadata": {
  "language_info": {
   "name": "python"
  },
  "orig_nbformat": 4
 },
 "nbformat": 4,
 "nbformat_minor": 2
}
