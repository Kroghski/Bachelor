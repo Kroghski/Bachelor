{
 "cells": [
  {
   "cell_type": "code",
   "execution_count": 1,
   "metadata": {},
   "outputs": [],
   "source": [
    "## Libraries\n",
    "import numpy as np\n",
    "import matplotlib.pyplot as plt\n",
    "from matplotlib.animation import FuncAnimation\n",
    "\n",
    "\n",
    "## Plot settings\n",
    "plt.rc('xtick', direction='in', labelsize=14)\n",
    "plt.rc('ytick', direction='in', labelsize=14)\n",
    "plt.rc('axes', labelsize=20, titlesize=22)\n",
    "plt.rc('legend', fontsize=14)\n",
    "plt.rc('animation', html='jshtml')\n",
    "plt.rcParams['font.family'] = 'DeJavu Serif'\n",
    "plt.rcParams['font.serif'] = ['Computer Modern Roman']\n",
    "plt.rcParams['mathtext.fontset'] = 'cm'"
   ]
  },
  {
   "cell_type": "code",
   "execution_count": 2,
   "metadata": {},
   "outputs": [],
   "source": [
    "# Load in Bott indices\n",
    "bott_indices_B_scale_0250 = []\n",
    "with open('AB_Bott_indices_B_scale_0250.txt', 'r') as reader:\n",
    "    line = reader.readline()\n",
    "    \n",
    "    while line != '':\n",
    "        ele = line.replace('(', '').replace(')', '')\n",
    "        elements = ele.split(',')\n",
    "        package = (float(elements[0]), int(elements[1]))\n",
    "        line = reader.readline()\n",
    "        bott_indices_B_scale_0250.append(package)\n",
    "\n",
    "bott_indices_B_scale_0925= []\n",
    "with open('AB_Bott_indices_B_scale_0925.txt', 'r') as reader:\n",
    "    line = reader.readline()\n",
    "    \n",
    "    while line != '':\n",
    "        ele = line.replace('(', '').replace(')', '')\n",
    "        elements = ele.split(',')\n",
    "        package = (float(elements[0]), int(elements[1]))\n",
    "        line = reader.readline()\n",
    "        bott_indices_B_scale_0925.append(package)\n",
    "\n",
    "\n",
    "# For range \n",
    "grid_coordinates = []\n",
    "with open('../../Grids/AB_grid.txt', 'r') as reader:\n",
    "    line = reader.readline()\n",
    "\n",
    "    while line != '':\n",
    "        elements = line.split(',')\n",
    "        point = (float(elements[0]),float(elements[1]))\n",
    "        grid_coordinates.append(point)\n",
    "        line = reader.readline()\n",
    "\n",
    "\n",
    "# Form to new lists. Note only non-zero indices have been saved, so they must be filled in\n",
    "\n",
    "dim = len(grid_coordinates)\n",
    "\n",
    "BI_0250 = np.zeros(dim)\n",
    "BI_0925 = np.zeros(dim)\n",
    "\n",
    "for ele, i in bott_indices_B_scale_0250:\n",
    "    BI_0250[i] = ele\n",
    "\n",
    "for ele, i in bott_indices_B_scale_0925:\n",
    "    BI_0925[i] = ele"
   ]
  },
  {
   "cell_type": "code",
   "execution_count": 3,
   "metadata": {},
   "outputs": [
    {
     "data": {
      "image/png": "[encoded data removed]",
      "text/plain": [
       "<Figure size 432x432 with 1 Axes>"
      ]
     },
     "metadata": {
      "needs_background": "light"
     },
     "output_type": "display_data"
    }
   ],
   "source": [
    "# Plot the indices\n",
    "fig, ax = plt.subplots(figsize= (6,6))\n",
    "\n",
    "xs = range(dim)\n",
    "\n",
    "ax.scatter(x= xs, y= BI_0250, color= 'k')\n",
    "\n",
    "ax.plot([],[], linestyle= '', label= 'B scale = 0.250')\n",
    "\n",
    "\n",
    "ax.set_xlabel('State number')\n",
    "ax.set_ylabel('Bott index')\n",
    "ax.set_yticks([-2, -1, 0, 1, 2])\n",
    "ax.legend(loc= 3)\n",
    "\n",
    "plt.savefig(('../../Illustrations/AB_BI_B_scale_0250.png'))\n",
    "\n",
    "plt.show()"
   ]
  },
  {
   "cell_type": "code",
   "execution_count": 4,
   "metadata": {},
   "outputs": [
    {
     "data": {
      "image/png": "[encoded data removed]",
      "text/plain": [
       "<Figure size 432x432 with 1 Axes>"
      ]
     },
     "metadata": {
      "needs_background": "light"
     },
     "output_type": "display_data"
    }
   ],
   "source": [
    "# Plot the indices\n",
    "fig, ax = plt.subplots(figsize= (6,6))\n",
    "\n",
    "xs = range(dim)\n",
    "\n",
    "ax.scatter(x= xs, y= BI_0925, color= 'k')\n",
    "\n",
    "ax.plot([],[], linestyle= '', label= 'B scale = 0.925')\n",
    "\n",
    "\n",
    "ax.set_xlabel('State number')\n",
    "ax.set_ylabel('Bott index')\n",
    "ax.set_yticks([-2, -1, 0, 1, 2])\n",
    "ax.legend(loc= 3)\n",
    "\n",
    "plt.savefig(('../../Illustrations/AB_BI_B_scale_0925.png'))\n",
    "\n",
    "plt.show()"
   ]
  },
  {
   "cell_type": "code",
   "execution_count": 7,
   "metadata": {},
   "outputs": [],
   "source": [
    "twos = [i for x, i in bott_indices_B_scale_0925 if abs(x) >= 1.5]"
   ]
  },
  {
   "cell_type": "code",
   "execution_count": 8,
   "metadata": {},
   "outputs": [
    {
     "data": {
      "text/plain": [
       "[191, 192, 497]"
      ]
     },
     "execution_count": 8,
     "metadata": {},
     "output_type": "execute_result"
    }
   ],
   "source": [
    "twos"
   ]
  },
  {
   "cell_type": "code",
   "execution_count": null,
   "metadata": {},
   "outputs": [],
   "source": []
  }
 ],
 "metadata": {
  "kernelspec": {
   "display_name": "base",
   "language": "python",
   "name": "python3"
  },
  "language_info": {
   "codemirror_mode": {
    "name": "ipython",
    "version": 3
   },
   "file_extension": ".py",
   "mimetype": "text/x-python",
   "name": "python",
   "nbconvert_exporter": "python",
   "pygments_lexer": "ipython3",
   "version": "3.9.12"
  },
  "orig_nbformat": 4
 },
 "nbformat": 4,
 "nbformat_minor": 2
}
