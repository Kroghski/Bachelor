{
 "cells": [
  {
   "cell_type": "code",
   "execution_count": 1,
   "metadata": {},
   "outputs": [],
   "source": [
    "## Libraries\n",
    "import numpy as np\n",
    "import matplotlib.pyplot as plt\n",
    "from matplotlib.animation import FuncAnimation\n",
    "\n",
    "\n",
    "## Plot settings\n",
    "plt.rc('xtick', direction='in', labelsize=14)\n",
    "plt.rc('ytick', direction='in', labelsize=14)\n",
    "plt.rc('axes', labelsize=20, titlesize=22)\n",
    "plt.rc('legend', fontsize=14)\n",
    "plt.rc('animation', html='jshtml')\n",
    "plt.rcParams['font.family'] = 'DeJavu Serif'\n",
    "plt.rcParams['font.serif'] = ['Computer Modern Roman']\n",
    "plt.rcParams['mathtext.fontset'] = 'cm'"
   ]
  },
  {
   "cell_type": "code",
   "execution_count": 2,
   "metadata": {},
   "outputs": [],
   "source": [
    "# The aim is to just generate a fixed amount of Vs\n",
    "# Note they need scaling in Hamiltonian script\n",
    "grid_coordinates = []\n",
    "with open('../../../../../Grids/AB_grid.txt', 'r') as reader:\n",
    "    line = reader.readline()\n",
    "\n",
    "    while line != '':\n",
    "        elements = line.split(',')\n",
    "        point = (float(elements[0]),float(elements[1]))\n",
    "        grid_coordinates.append(point)\n",
    "        line = reader.readline()\n",
    "\n",
    "dims = len(grid_coordinates)\n",
    "# delta_E is calculated in the dynamics_script \n",
    "delta_E = 0.03240036249253203\n",
    "perturbs = np.random.normal(0, delta_E, dims)\n",
    "np.savetxt('Perturbs_flux_0036.txt', perturbs)"
   ]
  },
  {
   "cell_type": "code",
   "execution_count": 3,
   "metadata": {},
   "outputs": [
    {
     "data": {
      "image/png": "[encoded data removed]",
      "text/plain": [
       "<Figure size 432x288 with 1 Axes>"
      ]
     },
     "metadata": {
      "needs_background": "light"
     },
     "output_type": "display_data"
    }
   ],
   "source": [
    "plt.hist(perturbs)\n",
    "plt.title('Vs as drawn')\n",
    "plt.show()"
   ]
  },
  {
   "cell_type": "code",
   "execution_count": 4,
   "metadata": {},
   "outputs": [
    {
     "data": {
      "image/png": "[encoded data removed]",
      "text/plain": [
       "<Figure size 432x288 with 1 Axes>"
      ]
     },
     "metadata": {
      "needs_background": "light"
     },
     "output_type": "display_data"
    }
   ],
   "source": [
    "perturbs_positive = [abs(x) for x in perturbs]\n",
    "plt.hist(perturbs_positive)\n",
    "plt.title('Vs as positive')\n",
    "plt.show()"
   ]
  },
  {
   "cell_type": "code",
   "execution_count": null,
   "metadata": {},
   "outputs": [],
   "source": []
  }
 ],
 "metadata": {
  "kernelspec": {
   "display_name": "base",
   "language": "python",
   "name": "python3"
  },
  "language_info": {
   "codemirror_mode": {
    "name": "ipython",
    "version": 3
   },
   "file_extension": ".py",
   "mimetype": "text/x-python",
   "name": "python",
   "nbconvert_exporter": "python",
   "pygments_lexer": "ipython3",
   "version": "3.9.12"
  },
  "orig_nbformat": 4
 },
 "nbformat": 4,
 "nbformat_minor": 2
}
