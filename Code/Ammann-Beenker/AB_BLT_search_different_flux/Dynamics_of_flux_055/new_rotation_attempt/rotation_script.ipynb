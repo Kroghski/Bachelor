{
 "cells": [
  {
   "cell_type": "code",
   "execution_count": 61,
   "metadata": {},
   "outputs": [],
   "source": [
    "## Libraries\n",
    "import numpy as np\n",
    "import matplotlib.pyplot as plt\n",
    "from matplotlib.animation import FuncAnimation\n",
    "\n",
    "\n",
    "## Plot settings\n",
    "plt.rc('xtick', direction='in', labelsize=14)\n",
    "plt.rc('ytick', direction='in', labelsize=14)\n",
    "plt.rc('axes', labelsize=20, titlesize=22)\n",
    "plt.rc('legend', fontsize=14)\n",
    "plt.rc('animation', html='jshtml')\n",
    "plt.rcParams['font.family'] = 'DeJavu Serif'\n",
    "plt.rcParams['font.serif'] = ['Computer Modern Roman']\n",
    "plt.rcParams['mathtext.fontset'] = 'cm'"
   ]
  },
  {
   "cell_type": "code",
   "execution_count": 62,
   "metadata": {},
   "outputs": [],
   "source": [
    "## Read coordinates and indices\n",
    "\n",
    "grid_coordinates = []\n",
    "with open('../../../../../Grids/AB_grid.txt', 'r') as reader:\n",
    "    line = reader.readline()\n",
    "\n",
    "    while line != '':\n",
    "        elements = line.split(',')\n",
    "        point = (float(elements[0]),float(elements[1]))\n",
    "        grid_coordinates.append(point)\n",
    "        line = reader.readline()\n",
    "\n",
    "jump_coordinates = []\n",
    "with open('../../../../../Grids/AB_jump_coordinates.txt', 'r') as reader:\n",
    "    line = reader.readline()\n",
    "\n",
    "    while line != '':\n",
    "        elements = line.split(' ')\n",
    "        data_block = []\n",
    "        for ele in elements:\n",
    "            temp = ele.replace('(', '').replace(')', '')\n",
    "            if temp != 'stop':\n",
    "                x = temp.split(',')[0]\n",
    "                y = temp.split(',')[1]\n",
    "                point = (float(x),float(y))\n",
    "                data_block.append(point)\n",
    "            else:\n",
    "                break\n",
    "        line = reader.readline()\n",
    "        jump_coordinates.append(data_block)\n",
    "\n",
    "jump_indices = []\n",
    "with open('../../../../../Grids/AB_jump_indices.txt', 'r') as reader:\n",
    "    line = reader.readline()\n",
    "\n",
    "    while line != '':\n",
    "        elements = line.split(' ')\n",
    "        data_block = []\n",
    "        for ele in elements:\n",
    "            if ele != 'stop':\n",
    "                data_block.append(int(ele))\n",
    "            else:\n",
    "                break\n",
    "        line = reader.readline()\n",
    "        jump_indices.append(data_block)\n",
    "\n",
    "# For drawing vertices use grid_coordinates\n",
    "# For drawing lines use jump_coordinates\n",
    "# For indices use jump_indices\n",
    "\n",
    "## We now want to scale down the plot so it will fit inside a unit square in the 1st quadrant\n",
    "\n",
    "# Compare x and y components seperatly to for the maximal distances along each axis\n",
    "xs = [x for x,y in grid_coordinates]\n",
    "ys = [y for x,y in grid_coordinates]\n",
    "\n",
    "xs_length = abs(max(xs)) + abs(min(xs))\n",
    "ys_length = abs(max(ys)) + abs(min(ys))\n",
    "\n",
    "# We can now scale all xs and ys to fit inside a unit square\n",
    "xs_scaled = [i/xs_length for i in xs]\n",
    "ys_scaled = [i/ys_length for i in ys]\n",
    "grid_scaled = [(x,y) for x, y in zip(xs_scaled, ys_scaled)]\n",
    "\n",
    "# Same thing for all jump coodinates\n",
    "jump_scaled = []\n",
    "for i in jump_coordinates:\n",
    "    xs_temp = [j[0]/xs_length for j in i]\n",
    "    ys_temp = [j[1]/ys_length for j in i]\n",
    "    jump_temp = [(x,y) for x, y in zip(xs_temp, ys_temp)]\n",
    "    jump_scaled.append(jump_temp)\n",
    "\n",
    "\n",
    "# The new vertices are stored in grid_scaled\n",
    "# The new jumps are stored in jump_scaled\n",
    "\n",
    "# Time evolution by giving index of states\n",
    "def time_evolve_evec(group_of_states, coefficients, time, evec, eval):\n",
    "\n",
    "    hbar = 1\n",
    "    t = time\n",
    "\n",
    "    # Make the group of states in to vectors and multiply with time op\n",
    "    phis = [c*np.exp(-1j*(eval[i]/hbar)*t)*evec[i] for i, c in zip(group_of_states, coefficients)]\n",
    "\n",
    "    # Make a linear combination equally divided\n",
    "    a = len(phis)\n",
    "    psi = sum([x for x in phis])\n",
    "\n",
    "    phi_norm = psi / (np.sqrt(np.vdot(psi,psi)))\n",
    "\n",
    "    density_of_states = [(x.conj() * x).real for x in phi_norm]\n",
    "    \n",
    "    return phi_norm, density_of_states\n"
   ]
  },
  {
   "cell_type": "code",
   "execution_count": 63,
   "metadata": {},
   "outputs": [],
   "source": [
    "# Hamiltonian cell\n",
    "# The pure Hamiltonian\n",
    "def Hamil_solve(z, w, B):\n",
    "    # Define now a skeleton of the Hamiltonian \n",
    "    dim_H = len(z)\n",
    "    H = np.zeros((dim_H, dim_H), dtype= np.complex128)\n",
    "    k_H = [x for x in range(0, dim_H)]\n",
    "    # Calculate Peierls phase factor according to the 1st artcle \n",
    "    \n",
    "    # Start by finding the tile length\n",
    "    tile_lens = [np.linalg.norm(np.array(z[0]) - np.array(x)) for x in w[0]]\n",
    "    tile_lens_sum = np.sum(tile_lens)\n",
    "    l  = tile_lens_sum/len(tile_lens)\n",
    "    phi = B * l**2\n",
    "    phi_0 = 2 * np.pi\n",
    "    jump_products = []\n",
    "    for i, j in zip(z, w):\n",
    "        products = [(i[0]*k[1] - k[0]*i[1]) for k in j]\n",
    "        jump_products.append(products)\n",
    "    phase_factors = []\n",
    "    for i, j in zip(z, jump_products):\n",
    "        phases = [-(phi/(2 * l**2)) * k for k in j]\n",
    "        phase_factors.append(phases)\n",
    "\n",
    "    # Scaling via J, maybe energy factor\n",
    "    J = 1\n",
    "    # Fill out the Hamiltonian according to the psi vector, i.e. the basis chosen through generation of the tiling\n",
    "    for x, y, z in zip(k_H, jump_indices, phase_factors):\n",
    "        for k, t in zip(y, z):\n",
    "            H[x, k] = -J * np.exp(1j * t)\n",
    "\n",
    "    # Now we find the eigenvalues and eigenvectors\n",
    "    # Note that eigh returns normalized eigenvectors!\n",
    "    # Note the eigenvectors are arranged in a matrix so eig_vecs[:,i] chooses the i'th column which is the i'th eigenvector\n",
    "    eig_vals, U = np.linalg.eigh(H)\n",
    "    eig_vecs = np.array([U[:,i] for i in range(len(U))])\n",
    "    return eig_vals, eig_vecs, H\n",
    "\n",
    "B_full = (2*np.pi)/(0.03825242185233838**2)\n",
    "B_scale = 0.55\n",
    "\n",
    "evals, evecs, H = Hamil_solve(grid_scaled, jump_scaled, (B_scale)*B_full)"
   ]
  },
  {
   "cell_type": "code",
   "execution_count": 64,
   "metadata": {},
   "outputs": [],
   "source": [
    "# Rotation cell\n",
    "def rotation(phi):\n",
    "    operator = np.array([[np.cos(phi), -np.sin(phi)],[np.sin(phi), np.cos(phi)]])\n",
    "    return operator\n",
    "\n",
    "def translation(vector, coordinate):\n",
    "    operator = vector + np.array([coordinate[0], coordinate[1]])\n",
    "    return operator\n",
    "\n",
    "def argz(z):\n",
    "    a = np.angle(z)\n",
    "    if a >= 0:\n",
    "        return a\n",
    "    else:\n",
    "        return 2*np.pi + a\n",
    "\n",
    "# This takes a vector from the basis of lattice sites and rotates it n-fold and assigns to a new vector in the same\n",
    "def rot_op(site, n):\n",
    "    # Site is a vector describing the coordinate of a supposed occupied site, which we want rotate (1/n)-fold\n",
    "    # Rads tells the operator how much we should rotate\n",
    "    rads = (2*np.pi)/(n)\n",
    "    \n",
    "    # Rotate site\n",
    "    rot_site = np.matmul(rotation(rads), np.array(site))\n",
    "    \n",
    "    # We aim to assign the rotated site to an already exisiting coordiante pair, so we will compare with grid_scaled\n",
    "    \n",
    "    # Find sites close enough\n",
    "    grain2 = -5\n",
    "    close_by_ele = [(ele, count) for count, ele in enumerate(np.array(grid_scaled)) if -10**(grain2) <= np.linalg.norm(rot_site - np.array(ele)) <= 10**(grain2)]\n",
    "    if len(close_by_ele) > 1 or len(close_by_ele) == 0:\n",
    "        print(f'close_by_eles has a length of {len(close_by_ele)}')\n",
    "        return\n",
    "    else:\n",
    "        # This more than likely only returns one element\n",
    "        # This element comes with an index which we use to assign the rotated site to the preexisting coordinates\n",
    "        new_site = grid_scaled[close_by_ele[0][1]]\n",
    "        new_x = new_site[0]\n",
    "        new_y = new_site[1]\n",
    "        ns_index = close_by_ele[0][1]\n",
    "        return (new_x, new_y), ns_index\n",
    "    \n",
    "\n",
    "# We now use the above function to construct an explicit rotation operator by applying and extracting the index for every basis element\n",
    "dim = len(grid_scaled)\n",
    "R = np.zeros((dim,dim),dtype= np.complex128)\n",
    "indices = []\n",
    "new_coordinates = []\n",
    "for w in range(dim):\n",
    "    coor, rot_index = rot_op(grid_scaled[w], 8)\n",
    "    indices.append(rot_index)\n",
    "    new_coordinates.append(coor)\n",
    "\n",
    "complex_coor = [complex(*x) for x in grid_scaled]\n",
    "complex_coor_rot = [complex(*x) for x in new_coordinates]\n",
    "# With the new coordinates of each transformed coordinate we may determine the phase between \n",
    "#phases = [y/x for x, y in zip(complex_coor, complex_coor_rot)]\n",
    "#theta = [arg(z) for z in phases]\n",
    "\n",
    "for i, j in zip(range(dim), indices):\n",
    "    # Note the order is to make sure in the picture of a matrix being made of column vectors, that we get the right non-zero entries\n",
    "    # If we flip the order we get the transpose. Reason being that np intreprets entries along every row constituting the matrix in stead\n",
    "    R[j][i] = 1"
   ]
  },
  {
   "cell_type": "code",
   "execution_count": 79,
   "metadata": {},
   "outputs": [
    {
     "name": "stdout",
     "output_type": "stream",
     "text": [
      "Degeneracies were found with grain= 10**(-4)\n"
     ]
    },
    {
     "data": {
      "text/plain": [
       "[33, 34, 181, 182, 328, 329, 342, 343, 345, 346, 359, 360, 506, 507, 654, 655]"
      ]
     },
     "execution_count": 79,
     "metadata": {},
     "output_type": "execute_result"
    }
   ],
   "source": [
    "r_evals, r_U = np.linalg.eigh(R)\n",
    "r_evecs = np.array([r_U[:,i] for i in range(len(r_U))])\n",
    "\n",
    "h_evals, h_evecs, H = Hamil_solve(grid_scaled, jump_scaled, (B_scale)*B_full)\n",
    "\n",
    "# Now check the unique eigenvalues in the list\n",
    "\n",
    "def unique(list):\n",
    "    unique_list = []\n",
    "    for x in list:\n",
    "        if len([y for y in unique_list if abs(x-y) < 10**(-2)]) == 0:\n",
    "            unique_list.append(x)\n",
    "        if x in unique_list:\n",
    "            pass\n",
    "    return unique_list\n",
    "\n",
    "unique_r_evals = unique(r_evals)\n",
    "unique_r_evals\n",
    "\n",
    "def check_degeneracy(eval, grain):\n",
    "    deg_ener = []\n",
    "    for count, ele in enumerate(eval):\n",
    "        evals_list = list(eval)\n",
    "        eles = [(z,index) for index, z in enumerate(eval) if abs(ele - z) < 10**(-grain) and evals_list.index(z) != count]\n",
    "        if len(eles) > 0:\n",
    "            deg_ener.append(count)\n",
    "        else:\n",
    "            pass\n",
    "    if len(deg_ener) == 0:\n",
    "        return print(f'No degeneracies were found with grain= 10**(-{grain})')\n",
    "    else:\n",
    "        print(f'Degeneracies were found with grain= 10**(-{grain})')\n",
    "        return deg_ener"
   ]
  },
  {
   "cell_type": "code",
   "execution_count": 81,
   "metadata": {},
   "outputs": [],
   "source": [
    "# We have diagonalised R\n",
    "r_diag = np.diag(r_evals)\n",
    "\n",
    "# We should write H in this basis"
   ]
  },
  {
   "cell_type": "code",
   "execution_count": 82,
   "metadata": {},
   "outputs": [
    {
     "data": {
      "text/plain": [
       "array([[-1.73205081,  0.        ,  0.        , ...,  0.        ,\n",
       "         0.        ,  0.        ],\n",
       "       [ 0.        , -1.73205081,  0.        , ...,  0.        ,\n",
       "         0.        ,  0.        ],\n",
       "       [ 0.        ,  0.        , -1.73205081, ...,  0.        ,\n",
       "         0.        ,  0.        ],\n",
       "       ...,\n",
       "       [ 0.        ,  0.        ,  0.        , ...,  1.73205081,\n",
       "         0.        ,  0.        ],\n",
       "       [ 0.        ,  0.        ,  0.        , ...,  0.        ,\n",
       "         1.73205081,  0.        ],\n",
       "       [ 0.        ,  0.        ,  0.        , ...,  0.        ,\n",
       "         0.        ,  1.73205081]])"
      ]
     },
     "execution_count": 82,
     "metadata": {},
     "output_type": "execute_result"
    }
   ],
   "source": [
    "r_diag"
   ]
  },
  {
   "cell_type": "code",
   "execution_count": 85,
   "metadata": {},
   "outputs": [
    {
     "name": "stdout",
     "output_type": "stream",
     "text": [
      "0j\n",
      "(0.002180874065095961+0j)\n"
     ]
    }
   ],
   "source": []
  },
  {
   "cell_type": "code",
   "execution_count": 77,
   "metadata": {},
   "outputs": [
    {
     "data": {
      "image/png": "[encoded data removed]",
      "text/plain": [
       "<Figure size 432x432 with 1 Axes>"
      ]
     },
     "metadata": {
      "needs_background": "light"
     },
     "output_type": "display_data"
    }
   ],
   "source": [
    "fig, ax = plt.subplots(figsize= (6,6))\n",
    "\n",
    "xs = range(len(h_evals))\n",
    "ax.scatter(xs, h_evals, facecolor= 'w', edgecolor= 'k')\n",
    "\n",
    "plt.show()"
   ]
  }
 ],
 "metadata": {
  "kernelspec": {
   "display_name": "base",
   "language": "python",
   "name": "python3"
  },
  "language_info": {
   "codemirror_mode": {
    "name": "ipython",
    "version": 3
   },
   "file_extension": ".py",
   "mimetype": "text/x-python",
   "name": "python",
   "nbconvert_exporter": "python",
   "pygments_lexer": "ipython3",
   "version": "3.9.12"
  },
  "orig_nbformat": 4
 },
 "nbformat": 4,
 "nbformat_minor": 2
}
