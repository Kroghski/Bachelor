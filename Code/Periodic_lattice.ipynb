{
 "cells": [
  {
   "cell_type": "code",
   "execution_count": 1,
   "metadata": {},
   "outputs": [],
   "source": [
    "## Libraries\n",
    "import numpy as np\n",
    "import matplotlib.pyplot as plt\n",
    "from scipy.linalg import logm, expm\n",
    "\n",
    "## Plot settings\n",
    "plt.rc('xtick', direction='in', labelsize=14)\n",
    "plt.rc('ytick', direction='in', labelsize=14)\n",
    "plt.rc('axes', labelsize=20, titlesize=22)\n",
    "plt.rc('legend', fontsize=14)"
   ]
  },
  {
   "cell_type": "code",
   "execution_count": 2,
   "metadata": {},
   "outputs": [
    {
     "data": {
      "text/plain": [
       "<matplotlib.collections.PathCollection at 0x1ebc9f99f40>"
      ]
     },
     "execution_count": 2,
     "metadata": {},
     "output_type": "execute_result"
    },
    {
     "data": {
      "image/png": "[encoded data removed]",
      "text/plain": [
       "<Figure size 360x360 with 1 Axes>"
      ]
     },
     "metadata": {
      "needs_background": "light"
     },
     "output_type": "display_data"
    }
   ],
   "source": [
    "# We want to generate a periodic grid lattice that is 25 x 25\n",
    "# Do the initial build within a unit square in the 1st quadrant\n",
    "edge_points = np.linspace(0,1,25)\n",
    "# Now we generate a list of lists of points\n",
    "list_of_lists = [[(x,y) for y in edge_points] for x in edge_points]\n",
    "points = [ele for sublist in list_of_lists for ele in sublist]\n",
    "\n",
    "smallest_dist0 = min([np.linalg.norm(np.array(points[0]) - np.array(x)) for x in points if np.linalg.norm(x) > 0])\n",
    "\n",
    "xs = [x for (x,y) in points]\n",
    "ys = [y for (x,y) in points]\n",
    "\n",
    "fig, ax = plt.subplots(figsize= (5,5))\n",
    "\n",
    "ax.scatter(xs,ys, facecolor= 'w', edgecolor= 'k')"
   ]
  },
  {
   "cell_type": "code",
   "execution_count": 3,
   "metadata": {},
   "outputs": [
    {
     "data": {
      "text/plain": [
       "0.041666666666666664"
      ]
     },
     "execution_count": 3,
     "metadata": {},
     "output_type": "execute_result"
    }
   ],
   "source": [
    "smallest_dist0"
   ]
  },
  {
   "cell_type": "code",
   "execution_count": null,
   "metadata": {},
   "outputs": [],
   "source": []
  }
 ],
 "metadata": {
  "kernelspec": {
   "display_name": "base",
   "language": "python",
   "name": "python3"
  },
  "language_info": {
   "codemirror_mode": {
    "name": "ipython",
    "version": 3
   },
   "file_extension": ".py",
   "mimetype": "text/x-python",
   "name": "python",
   "nbconvert_exporter": "python",
   "pygments_lexer": "ipython3",
   "version": "3.9.12"
  },
  "orig_nbformat": 4
 },
 "nbformat": 4,
 "nbformat_minor": 2
}
